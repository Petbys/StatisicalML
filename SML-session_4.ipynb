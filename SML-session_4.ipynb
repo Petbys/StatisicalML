{
 "cells": [
  {
   "cell_type": "code",
   "execution_count": 5,
   "metadata": {
    "tags": []
   },
   "outputs": [],
   "source": [
    "import pandas as pd\n",
    "import numpy as np\n",
    "import matplotlib.pyplot as plt\n",
    "\n",
    "import sklearn.preprocessing as skl_pre\n",
    "import sklearn.linear_model as skl_lm\n",
    "import sklearn.discriminant_analysis as skl_da\n",
    "import sklearn.neighbors as skl_nb\n",
    "\n",
    "#from IPython.disply import set_matplotlib_formats\n",
    "#set_matplotlib_formats('png')\n",
    "from IPython.core.pylabtools import figsize\n",
    "figsize(10, 6) # Width and hight\n",
    "#plt.style.use('seaborn-white')"
   ]
  },
  {
   "cell_type": "markdown",
   "metadata": {
    "tags": []
   },
   "source": [
    "# 4.1 Getting started with classification – Breast cancer diagnosis"
   ]
  },
  {
   "cell_type": "markdown",
   "metadata": {
    "tags": []
   },
   "source": [
    "In this exercise, we will consider the data set `data/biopsy.csv` with data from breast biopsies, for the purpose of diagnosing breast cancer. For each patient, the data set contains nine different attributes (clump thickness, uniformity of cell size, uniformity of cell shape, marginal adhesion, single epithelial cell size, bare nuclei, bland chromatin, normal nucleoli and mitoses) scored on a scale from $1$ to $10$, as well as the physician’s diagnosis (malign or benign)."
   ]
  },
  {
   "cell_type": "markdown",
   "metadata": {
    "tags": []
   },
   "source": [
    "## Dataset\n",
    "This data frame `biopsy` contains the following columns:  \n",
    "`ID`: sample code number (not unique).  \n",
    "`V1`: clump thickness.  \n",
    "`V2`: uniformity of cell size.  \n",
    "`V3`: uniformity of cell shape.  \n",
    "`V4`: marginal adhesion.  \n",
    "`V5`: single epithelial cell size.  \n",
    "`V6`: bare nuclei (16 values are missing).  \n",
    "`V7`: bland chromatin.  \n",
    "`V8`: normal nucleoli.  \n",
    "`V9`: mitoses.  \n",
    "`class`: \"benign\" or \"malignant\".  "
   ]
  },
  {
   "cell_type": "markdown",
   "metadata": {
    "tags": []
   },
   "source": [
    "## a)\n",
    "Load and familiarize yourself with the data set, using, e.g.`info()`, `describe()`, `pandas.plotting.scatter_matrix()` and `print()`."
   ]
  },
  {
   "cell_type": "code",
   "execution_count": null,
   "metadata": {
    "tags": []
   },
   "outputs": [],
   "source": [
    "# url = 'data/biopsy.csv'\n",
    "url = 'https://uu-sml.github.io/course-sml-public/data/biopsy.csv'\n",
    "biopsy = pd.read_csv(url, na_values='?', dtype={'ID': str}).dropna().reset_index()"
   ]
  },
  {
   "cell_type": "code",
   "execution_count": 38,
   "metadata": {
    "scrolled": true,
    "tags": []
   },
   "outputs": [
    {
     "ename": "AttributeError",
     "evalue": "'AxesSubplot' object has no attribute 'rowNum'",
     "output_type": "error",
     "traceback": [
      "\u001b[0;31m---------------------------------------------------------------------------\u001b[0m",
      "\u001b[0;31mAttributeError\u001b[0m                            Traceback (most recent call last)",
      "\u001b[0;32m<ipython-input-38-e5534d12c7b7>\u001b[0m in \u001b[0;36m<module>\u001b[0;34m\u001b[0m\n\u001b[0;32m----> 1\u001b[0;31m \u001b[0mpd\u001b[0m\u001b[0;34m.\u001b[0m\u001b[0mplotting\u001b[0m\u001b[0;34m.\u001b[0m\u001b[0mscatter_matrix\u001b[0m\u001b[0;34m(\u001b[0m\u001b[0mbiopsy\u001b[0m\u001b[0;34m.\u001b[0m\u001b[0miloc\u001b[0m\u001b[0;34m[\u001b[0m\u001b[0;34m:\u001b[0m\u001b[0;34m,\u001b[0m\u001b[0;36m1\u001b[0m\u001b[0;34m:\u001b[0m\u001b[0;34m]\u001b[0m\u001b[0;34m,\u001b[0m\u001b[0mfigsize\u001b[0m\u001b[0;34m=\u001b[0m\u001b[0;34m(\u001b[0m\u001b[0;36m10\u001b[0m\u001b[0;34m,\u001b[0m\u001b[0;36m10\u001b[0m\u001b[0;34m)\u001b[0m\u001b[0;34m)\u001b[0m\u001b[0;34m\u001b[0m\u001b[0;34m\u001b[0m\u001b[0m\n\u001b[0m",
      "\u001b[0;32m~/opt/anaconda3/lib/python3.7/site-packages/pandas/plotting/_misc.py\u001b[0m in \u001b[0;36mscatter_matrix\u001b[0;34m(frame, alpha, figsize, ax, grid, diagonal, marker, density_kwds, hist_kwds, range_padding, **kwds)\u001b[0m\n\u001b[1;32m    137\u001b[0m         \u001b[0mhist_kwds\u001b[0m\u001b[0;34m=\u001b[0m\u001b[0mhist_kwds\u001b[0m\u001b[0;34m,\u001b[0m\u001b[0;34m\u001b[0m\u001b[0;34m\u001b[0m\u001b[0m\n\u001b[1;32m    138\u001b[0m         \u001b[0mrange_padding\u001b[0m\u001b[0;34m=\u001b[0m\u001b[0mrange_padding\u001b[0m\u001b[0;34m,\u001b[0m\u001b[0;34m\u001b[0m\u001b[0;34m\u001b[0m\u001b[0m\n\u001b[0;32m--> 139\u001b[0;31m         \u001b[0;34m**\u001b[0m\u001b[0mkwds\u001b[0m\u001b[0;34m\u001b[0m\u001b[0;34m\u001b[0m\u001b[0m\n\u001b[0m\u001b[1;32m    140\u001b[0m     )\n\u001b[1;32m    141\u001b[0m \u001b[0;34m\u001b[0m\u001b[0m\n",
      "\u001b[0;32m~/opt/anaconda3/lib/python3.7/site-packages/pandas/plotting/_matplotlib/misc.py\u001b[0m in \u001b[0;36mscatter_matrix\u001b[0;34m(frame, alpha, figsize, ax, grid, diagonal, marker, density_kwds, hist_kwds, range_padding, **kwds)\u001b[0m\n\u001b[1;32m     28\u001b[0m     \u001b[0mn\u001b[0m \u001b[0;34m=\u001b[0m \u001b[0mdf\u001b[0m\u001b[0;34m.\u001b[0m\u001b[0mcolumns\u001b[0m\u001b[0;34m.\u001b[0m\u001b[0msize\u001b[0m\u001b[0;34m\u001b[0m\u001b[0;34m\u001b[0m\u001b[0m\n\u001b[1;32m     29\u001b[0m     \u001b[0mnaxes\u001b[0m \u001b[0;34m=\u001b[0m \u001b[0mn\u001b[0m \u001b[0;34m*\u001b[0m \u001b[0mn\u001b[0m\u001b[0;34m\u001b[0m\u001b[0;34m\u001b[0m\u001b[0m\n\u001b[0;32m---> 30\u001b[0;31m     \u001b[0mfig\u001b[0m\u001b[0;34m,\u001b[0m \u001b[0maxes\u001b[0m \u001b[0;34m=\u001b[0m \u001b[0m_subplots\u001b[0m\u001b[0;34m(\u001b[0m\u001b[0mnaxes\u001b[0m\u001b[0;34m=\u001b[0m\u001b[0mnaxes\u001b[0m\u001b[0;34m,\u001b[0m \u001b[0mfigsize\u001b[0m\u001b[0;34m=\u001b[0m\u001b[0mfigsize\u001b[0m\u001b[0;34m,\u001b[0m \u001b[0max\u001b[0m\u001b[0;34m=\u001b[0m\u001b[0max\u001b[0m\u001b[0;34m,\u001b[0m \u001b[0msqueeze\u001b[0m\u001b[0;34m=\u001b[0m\u001b[0;32mFalse\u001b[0m\u001b[0;34m)\u001b[0m\u001b[0;34m\u001b[0m\u001b[0;34m\u001b[0m\u001b[0m\n\u001b[0m\u001b[1;32m     31\u001b[0m \u001b[0;34m\u001b[0m\u001b[0m\n\u001b[1;32m     32\u001b[0m     \u001b[0;31m# no gaps between subplots\u001b[0m\u001b[0;34m\u001b[0m\u001b[0;34m\u001b[0m\u001b[0;34m\u001b[0m\u001b[0m\n",
      "\u001b[0;32m~/opt/anaconda3/lib/python3.7/site-packages/pandas/plotting/_matplotlib/tools.py\u001b[0m in \u001b[0;36m_subplots\u001b[0;34m(naxes, sharex, sharey, squeeze, subplot_kw, ax, layout, layout_type, **fig_kw)\u001b[0m\n\u001b[1;32m    261\u001b[0m             \u001b[0max\u001b[0m\u001b[0;34m.\u001b[0m\u001b[0mset_visible\u001b[0m\u001b[0;34m(\u001b[0m\u001b[0;32mFalse\u001b[0m\u001b[0;34m)\u001b[0m\u001b[0;34m\u001b[0m\u001b[0;34m\u001b[0m\u001b[0m\n\u001b[1;32m    262\u001b[0m \u001b[0;34m\u001b[0m\u001b[0m\n\u001b[0;32m--> 263\u001b[0;31m     \u001b[0m_handle_shared_axes\u001b[0m\u001b[0;34m(\u001b[0m\u001b[0maxarr\u001b[0m\u001b[0;34m,\u001b[0m \u001b[0mnplots\u001b[0m\u001b[0;34m,\u001b[0m \u001b[0mnaxes\u001b[0m\u001b[0;34m,\u001b[0m \u001b[0mnrows\u001b[0m\u001b[0;34m,\u001b[0m \u001b[0mncols\u001b[0m\u001b[0;34m,\u001b[0m \u001b[0msharex\u001b[0m\u001b[0;34m,\u001b[0m \u001b[0msharey\u001b[0m\u001b[0;34m)\u001b[0m\u001b[0;34m\u001b[0m\u001b[0;34m\u001b[0m\u001b[0m\n\u001b[0m\u001b[1;32m    264\u001b[0m \u001b[0;34m\u001b[0m\u001b[0m\n\u001b[1;32m    265\u001b[0m     \u001b[0;32mif\u001b[0m \u001b[0msqueeze\u001b[0m\u001b[0;34m:\u001b[0m\u001b[0;34m\u001b[0m\u001b[0;34m\u001b[0m\u001b[0m\n",
      "\u001b[0;32m~/opt/anaconda3/lib/python3.7/site-packages/pandas/plotting/_matplotlib/tools.py\u001b[0m in \u001b[0;36m_handle_shared_axes\u001b[0;34m(axarr, nplots, naxes, nrows, ncols, sharex, sharey)\u001b[0m\n\u001b[1;32m    305\u001b[0m                 \u001b[0mlayout\u001b[0m \u001b[0;34m=\u001b[0m \u001b[0mnp\u001b[0m\u001b[0;34m.\u001b[0m\u001b[0mzeros\u001b[0m\u001b[0;34m(\u001b[0m\u001b[0;34m(\u001b[0m\u001b[0mnrows\u001b[0m \u001b[0;34m+\u001b[0m \u001b[0;36m1\u001b[0m\u001b[0;34m,\u001b[0m \u001b[0mncols\u001b[0m \u001b[0;34m+\u001b[0m \u001b[0;36m1\u001b[0m\u001b[0;34m)\u001b[0m\u001b[0;34m,\u001b[0m \u001b[0mdtype\u001b[0m\u001b[0;34m=\u001b[0m\u001b[0mnp\u001b[0m\u001b[0;34m.\u001b[0m\u001b[0mbool\u001b[0m\u001b[0;34m)\u001b[0m\u001b[0;34m\u001b[0m\u001b[0;34m\u001b[0m\u001b[0m\n\u001b[1;32m    306\u001b[0m                 \u001b[0;32mfor\u001b[0m \u001b[0max\u001b[0m \u001b[0;32min\u001b[0m \u001b[0maxarr\u001b[0m\u001b[0;34m:\u001b[0m\u001b[0;34m\u001b[0m\u001b[0;34m\u001b[0m\u001b[0m\n\u001b[0;32m--> 307\u001b[0;31m                     \u001b[0mlayout\u001b[0m\u001b[0;34m[\u001b[0m\u001b[0max\u001b[0m\u001b[0;34m.\u001b[0m\u001b[0mrowNum\u001b[0m\u001b[0;34m,\u001b[0m \u001b[0max\u001b[0m\u001b[0;34m.\u001b[0m\u001b[0mcolNum\u001b[0m\u001b[0;34m]\u001b[0m \u001b[0;34m=\u001b[0m \u001b[0max\u001b[0m\u001b[0;34m.\u001b[0m\u001b[0mget_visible\u001b[0m\u001b[0;34m(\u001b[0m\u001b[0;34m)\u001b[0m\u001b[0;34m\u001b[0m\u001b[0;34m\u001b[0m\u001b[0m\n\u001b[0m\u001b[1;32m    308\u001b[0m \u001b[0;34m\u001b[0m\u001b[0m\n\u001b[1;32m    309\u001b[0m                 \u001b[0;32mfor\u001b[0m \u001b[0max\u001b[0m \u001b[0;32min\u001b[0m \u001b[0maxarr\u001b[0m\u001b[0;34m:\u001b[0m\u001b[0;34m\u001b[0m\u001b[0;34m\u001b[0m\u001b[0m\n",
      "\u001b[0;31mAttributeError\u001b[0m: 'AxesSubplot' object has no attribute 'rowNum'"
     ]
    },
    {
     "data": {
      "image/png": "[encoded data removed]",
      "text/plain": [
       "<Figure size 720x720 with 81 Axes>"
      ]
     },
     "metadata": {
      "needs_background": "light"
     },
     "output_type": "display_data"
    }
   ],
   "source": [
    "pd.plotting.scatter_matrix(biopsy.iloc[:,1:],figsize=(10,10))\n"
   ]
  },
  {
   "cell_type": "markdown",
   "metadata": {
    "tags": []
   },
   "source": [
    "## b)\n",
    "Split the data randomly into a training set and a test set of approximately similar size."
   ]
  },
  {
   "cell_type": "code",
   "execution_count": 39,
   "metadata": {
    "tags": []
   },
   "outputs": [
    {
     "name": "stdout",
     "output_type": "stream",
     "text": [
      "     index       ID  V1  V2  V3  V4  V5    V6  V7  V8  V9      class\n",
      "0        0  1000025   5   1   1   1   2   1.0   3   1   1     benign\n",
      "1        1  1002945   5   4   4   5   7  10.0   3   2   1     benign\n",
      "2        2  1015425   3   1   1   1   2   2.0   3   1   1     benign\n",
      "3        3  1016277   6   8   8   1   3   4.0   3   7   1     benign\n",
      "4        4  1017023   4   1   1   3   2   1.0   3   1   1     benign\n",
      "..     ...      ...  ..  ..  ..  ..  ..   ...  ..  ..  ..        ...\n",
      "678    694   776715   3   1   1   1   3   2.0   1   1   1     benign\n",
      "679    695   841769   2   1   1   1   2   1.0   1   1   1     benign\n",
      "680    696   888820   5  10  10   3   7   3.0   8  10   2  malignant\n",
      "681    697   897471   4   8   6   4   3   4.0  10   6   1  malignant\n",
      "682    698   897471   4   8   8   5   4   5.0  10   4   1  malignant\n",
      "\n",
      "[683 rows x 12 columns]\n",
      "[429  23 189  47 361 590 557 455 620 499 465 630 593  41 483 304 677 426\n",
      " 520  81 445 570 638 101  65 118 539  59 680  57  19 328  60 173 134  56\n",
      " 378 248 180 293 245 117 365 161 506 607 651 618  66 648 355 603 274 657\n",
      " 159 459  35 563  92 172 473 277 257 350 544 412 460  69 597 392  13 104\n",
      " 546 432 314 496 661 487 261 655 351 547 307 201  85 550 119 368 373 111\n",
      " 670 598 255 333 242 139 573  68 519 372  34 388 559 434 375 535 634 341\n",
      " 406 660 120 273   0 195 132 107  17  16 233 409  82 349 148 525 533 433\n",
      " 337  45 181 541 331  11  88 363 360 394 262 560 425 121  49 305 335 430\n",
      " 449 310 396 632 329 116 486 457 241 312 323 207 435 596  62 422 223 135\n",
      " 642 417 567 247 646 259  90 552  29 631 358 224 673 576 185 419 504 318\n",
      " 160 537 614 103 679 347 345 165 268  80 334 408   3 285   9 522 400 353\n",
      " 611 179 377 383 218 428 306 615 617 197  40 556   5 592 214 669 352  38\n",
      " 286 582 649 566 346 162  67 124  39   4  33 654 147 414 528 605 545 399\n",
      " 676 555  31 236 382 448 667  95 339 531 187 494 146 289  74 299 404  61\n",
      " 385 301  76 523 395 186 364 622 260 437 200 650  78 484  42 133 438 554\n",
      " 250 446 362 472 192 423 343 602 510 463 458 157 464 427 656 512 102  52\n",
      " 443 664 511  97 421 128 177 110 507 415 311 495]\n",
      "[ True False False  True  True  True False False False  True False  True\n",
      " False  True False False  True  True False  True False False False  True\n",
      " False False False False False  True False  True False  True  True  True\n",
      " False False  True  True  True  True  True False False  True False  True\n",
      " False  True False False  True False False False  True  True False  True\n",
      "  True  True  True False False  True  True  True  True  True False False\n",
      " False False  True False  True False  True False  True  True  True False\n",
      " False  True False False  True False  True False  True False False  True\n",
      " False  True False False False  True  True  True  True False False  True\n",
      " False False  True  True False False False False  True  True  True  True\n",
      "  True  True False False  True False False False  True False False False\n",
      "  True  True  True  True False False False  True False False False False\n",
      " False False  True  True  True False False False False False False False\n",
      " False  True False  True  True  True  True False False  True False False\n",
      " False False False False  True  True False False False  True False  True\n",
      "  True  True False False False  True  True  True False  True False False\n",
      "  True False False  True False  True False False  True  True False False\n",
      " False False False  True False False False False False False  True False\n",
      " False False  True False False False False  True  True False False False\n",
      " False False False False False  True False False  True False False False\n",
      " False  True  True False False  True False  True  True False  True False\n",
      " False False False  True False  True False  True  True  True  True False\n",
      " False False False False  True False False False False  True  True False\n",
      " False  True False False False False False False False  True  True False\n",
      " False  True False False False  True False False False False False  True\n",
      " False  True False False  True  True  True  True False False  True  True\n",
      "  True False  True False False False  True False False False False  True\n",
      " False False False False  True  True False  True False  True  True  True\n",
      " False  True False  True False  True False  True False  True  True  True\n",
      " False  True  True  True  True  True False  True False False  True False\n",
      "  True  True  True  True  True  True False False  True False False False\n",
      "  True  True False  True False  True  True False False False  True  True\n",
      " False  True False False  True False False False  True False  True  True\n",
      "  True False False  True  True False False False  True False  True False\n",
      "  True  True False False  True False  True  True False  True False  True\n",
      " False  True  True  True False  True  True  True  True  True  True False\n",
      "  True  True  True  True False  True  True False False False False  True\n",
      " False  True  True False  True  True False False False False False  True\n",
      " False  True  True  True  True False False  True  True  True False False\n",
      " False False False False  True  True False False False False False False\n",
      " False False False  True  True False  True  True False False False False\n",
      " False False  True  True  True False False  True False False False False\n",
      "  True False  True  True False False  True  True  True False False False\n",
      " False False False  True  True False  True  True False  True False False\n",
      "  True False False  True False  True False  True False  True False  True\n",
      " False  True False False  True  True  True  True False False  True False\n",
      "  True False  True  True  True  True False  True  True False False  True\n",
      " False False  True  True False False  True False False  True False False\n",
      "  True False False False False False  True False False False False False\n",
      " False False  True False  True  True False False  True  True  True False\n",
      " False False  True  True False  True False  True False False False  True\n",
      " False False  True  True False  True  True False  True False  True False\n",
      " False False False False False False  True  True  True False  True False\n",
      " False False  True False False False  True False False False  True False\n",
      "  True  True  True  True False False  True  True  True  True False False\n",
      "  True  True False False  True False False  True False  True  True False\n",
      " False  True False False  True  True False  True  True False False]\n",
      "train      index       ID  V1  V2  V3  V4  V5    V6  V7  V8  V9      class\n",
      "0        0  1000025   5   1   1   1   2   1.0   3   1   1     benign\n",
      "3        3  1016277   6   8   8   1   3   4.0   3   7   1     benign\n",
      "4        4  1017023   4   1   1   3   2   1.0   3   1   1     benign\n",
      "5        5  1017122   8  10  10   8   7  10.0   9   7   1  malignant\n",
      "9        9  1033078   4   2   1   1   2   1.0   2   1   1     benign\n",
      "..     ...      ...  ..  ..  ..  ..  ..   ...  ..  ..  ..        ...\n",
      "673    689   654546   1   1   1   1   2   1.0   1   1   8     benign\n",
      "676    692   714039   3   1   1   1   2   1.0   1   1   1     benign\n",
      "677    693   763235   3   1   1   1   2   1.0   2   1   2     benign\n",
      "679    695   841769   2   1   1   1   2   1.0   1   1   1     benign\n",
      "680    696   888820   5  10  10   3   7   3.0   8  10   2  malignant\n",
      "\n",
      "[300 rows x 12 columns]\n",
      "     index       ID  V1  V2  V3  V4  V5    V6  V7  V8  V9      class\n",
      "1        1  1002945   5   4   4   5   7  10.0   3   2   1     benign\n",
      "2        2  1015425   3   1   1   1   2   2.0   3   1   1     benign\n",
      "6        6  1018099   1   1   1   1   2  10.0   3   1   1     benign\n",
      "7        7  1018561   2   1   2   1   2   1.0   3   1   1     benign\n",
      "8        8  1033078   2   1   1   1   2   1.0   1   1   5     benign\n",
      "..     ...      ...  ..  ..  ..  ..  ..   ...  ..  ..  ..        ...\n",
      "674    690   654546   1   1   1   3   2   1.0   1   1   1     benign\n",
      "675    691   695091   5  10  10   5   4   5.0   4   4   1  malignant\n",
      "678    694   776715   3   1   1   1   3   2.0   1   1   1     benign\n",
      "681    697   897471   4   8   6   4   3   4.0  10   6   1  malignant\n",
      "682    698   897471   4   8   8   5   4   5.0  10   4   1  malignant\n",
      "\n",
      "[383 rows x 12 columns]\n"
     ]
    }
   ],
   "source": [
    "np.random.seed(1)\n",
    "print(biopsy)\n",
    "trainI=np.random.choice(biopsy.shape[0],size=300,replace=False)\n",
    "print(trainI)\n",
    "trainIndex=biopsy.index.isin(trainI)\n",
    "print(trainIndex)\n",
    "train=biopsy.iloc[trainIndex]\n",
    "print('train',train)\n",
    "test=biopsy.iloc[~trainIndex]\n",
    "print(test)"
   ]
  },
  {
   "cell_type": "markdown",
   "metadata": {
    "tags": []
   },
   "source": [
    "## c) Logistic regression <a id='4.1-c'></a>\n",
    "Perform logistic regression with `class` as output variable and `V3`, `V4` and `V5` as input variables. Do a prediction on the test set, and compute (i) the fraction of correct predictions and (ii) the confusion matrix (using, for examnple, `pandas.crosstab()`). The commands `skl_lm.LogisticRegression()` and `model.predict()` are useful. Is the performance any good, and what does the confusion matrix tell you?"
   ]
  },
  {
   "cell_type": "code",
   "execution_count": 41,
   "metadata": {
    "tags": []
   },
   "outputs": [
    {
     "name": "stdout",
     "output_type": "stream",
     "text": [
      "model summary\n",
      "LogisticRegression(C=1.0, class_weight=None, dual=False, fit_intercept=True,\n",
      "                   intercept_scaling=1, l1_ratio=None, max_iter=100,\n",
      "                   multi_class='warn', n_jobs=None, penalty='l2',\n",
      "                   random_state=None, solver='warn', tol=0.0001, verbose=0,\n",
      "                   warm_start=False)\n"
     ]
    },
    {
     "name": "stderr",
     "output_type": "stream",
     "text": [
      "/Users/petterbystrom/opt/anaconda3/lib/python3.7/site-packages/sklearn/linear_model/logistic.py:432: FutureWarning: Default solver will be changed to 'lbfgs' in 0.22. Specify a solver to silence this warning.\n",
      "  FutureWarning)\n",
      "/Users/petterbystrom/opt/anaconda3/lib/python3.7/site-packages/sklearn/utils/validation.py:724: DataConversionWarning: A column-vector y was passed when a 1d array was expected. Please change the shape of y to (n_samples, ), for example using ravel().\n",
      "  y = column_or_1d(y, warn=True)\n"
     ]
    },
    {
     "data": {
      "text/plain": [
       "\"\\npredict_prob=model.predict_proba(X_test)\\nprint('The class order in the model')\\nprint(model.classes_)\\nprint('Examples of predicted probabilities')\\npredict_prob[0:5]\\n\\nprediction=np.empty(len(X_test),dtype=object)\\nprediction=np.where(predict_prob[:,0]>=0.5,'benign','malignant')\\nprediction[0:5]\\n\\nprint('Confusion matrix')\\nprint(pd.crosstab(prediction,Y_test),'\\n')\\n\\nprint(f'Accuracy: {np.mean(prediction== Y_test):.3f}')\\n\""
      ]
     },
     "execution_count": 41,
     "metadata": {},
     "output_type": "execute_result"
    }
   ],
   "source": [
    "model=skl_lm.LogisticRegression()\n",
    "X_train=train[['V3','V4','V5']]\n",
    "Y_train=train[['class']]\n",
    "\n",
    "X_test=test[['V3','V4','V5']]\n",
    "Y_test=test[['class']]\n",
    "\n",
    "model.fit(X_train,Y_train)\n",
    "print('model summary')\n",
    "print(model)\n",
    "\n",
    "model.get_params()\n",
    "'''\n",
    "predict_prob=model.predict_proba(X_test)\n",
    "print('The class order in the model')\n",
    "print(model.classes_)\n",
    "print('Examples of predicted probabilities')\n",
    "predict_prob[0:5]\n",
    "\n",
    "prediction=np.empty(len(X_test),dtype=object)\n",
    "prediction=np.where(predict_prob[:,0]>=0.5,'benign','malignant')\n",
    "prediction[0:5]\n",
    "\n",
    "print('Confusion matrix')\n",
    "print(pd.crosstab(prediction,Y_test),'\\n')\n",
    "\n",
    "print(f'Accuracy: {np.mean(prediction== Y_test):.3f}')\n",
    "'''"
   ]
  },
  {
   "cell_type": "markdown",
   "metadata": {
    "tags": []
   },
   "source": [
    "## d) LDA\n",
    "Repeat [(c)](#4.1-c) using LDA. A useful command is `sklearn.discriminant_analysis.LinearDiscriminantAnalysis()`. `sklearn.discriminant_analysis` is imported as `skl_da`"
   ]
  },
  {
   "cell_type": "code",
   "execution_count": 31,
   "metadata": {
    "tags": []
   },
   "outputs": [
    {
     "name": "stderr",
     "output_type": "stream",
     "text": [
      "/Users/petterbystrom/opt/anaconda3/lib/python3.7/site-packages/sklearn/utils/validation.py:724: DataConversionWarning: A column-vector y was passed when a 1d array was expected. Please change the shape of y to (n_samples, ), for example using ravel().\n",
      "  y = column_or_1d(y, warn=True)\n"
     ]
    },
    {
     "data": {
      "text/plain": [
       "QuadraticDiscriminantAnalysis(priors=None, reg_param=0.0,\n",
       "                              store_covariance=False, tol=0.0001)"
      ]
     },
     "execution_count": 31,
     "metadata": {},
     "output_type": "execute_result"
    }
   ],
   "source": [
    "model=skl_da.QuadraticDiscriminantAnalysis()\n",
    "model.fit(X_train,Y_train)"
   ]
  },
  {
   "cell_type": "markdown",
   "metadata": {
    "tags": []
   },
   "source": [
    "## e) QDA\n",
    "Repeat [(c)](#4.1-c) using QDA. A useful command is `sklearn.discriminant_analysis.QuadraticDiscriminantAnalysis()`."
   ]
  },
  {
   "cell_type": "code",
   "execution_count": null,
   "metadata": {
    "tags": []
   },
   "outputs": [],
   "source": []
  },
  {
   "cell_type": "markdown",
   "metadata": {
    "tags": []
   },
   "source": [
    "## f) KNN\n",
    "Repeat [(c)](#4.1-c) using $k$-NN (with $k = 1$). A useful commands is `sklearn.neighbors.KNeighborsClassifier()`."
   ]
  },
  {
   "cell_type": "code",
   "execution_count": null,
   "metadata": {
    "tags": []
   },
   "outputs": [],
   "source": []
  },
  {
   "cell_type": "markdown",
   "metadata": {
    "tags": []
   },
   "source": [
    "## g) Try different values for KNN\n",
    "Use a `for`-loop to explore the performance of $k$-NN for different values of $k$, and plot the fraction of correct\n",
    "predictions as a function of $k$."
   ]
  },
  {
   "cell_type": "code",
   "execution_count": null,
   "metadata": {
    "tags": []
   },
   "outputs": [],
   "source": []
  },
  {
   "cell_type": "markdown",
   "metadata": {
    "tags": []
   },
   "source": [
    "## h) ROC for logistic regression\n",
    "Use a `for`-loop to explore how the true and false positive rates in logistic regression are affected by different threshold values, and plot the result as a `ROC curve`. (see Figure 4.7 and Table 4.1 in the book)."
   ]
  },
  {
   "cell_type": "code",
   "execution_count": null,
   "metadata": {
    "tags": []
   },
   "outputs": [],
   "source": []
  },
  {
   "cell_type": "markdown",
   "metadata": {
    "tags": []
   },
   "source": [
    "## i)\n",
    "Try to find another set of inputs (perhaps by also considering transformations of the attributes) which gives a better result than you have achieved so far. You may also play with the threshold values. (“Better” is on purpose left vague. For this problem, the implications of a false negative (=`benign`) misclassification is probably more severe than a false positive (=`malignant`) misclassification.)"
   ]
  },
  {
   "cell_type": "code",
   "execution_count": null,
   "metadata": {
    "tags": []
   },
   "outputs": [],
   "source": []
  },
  {
   "cell_type": "markdown",
   "metadata": {
    "tags": []
   },
   "source": [
    "# 4.2 Decision boundaries\n",
    "The following code generates some data with $x_1$ and $x_2$ both in $[0, 10]$ and $y$ either $0$ or $1$, and plots the decision boundary for a logistic regression model."
   ]
  },
  {
   "cell_type": "code",
   "execution_count": null,
   "metadata": {
    "tags": []
   },
   "outputs": [],
   "source": [
    "# generate data\n",
    "np.random.seed(2)\n",
    "N = 100\n",
    "x1 = np.random.uniform(0, 10, N)\n",
    "x2 = np.random.uniform(0, 10, N)\n",
    "y = np.ones(N)\n",
    "y[x1<4] = 0\n",
    "y[x2<4] = 0\n",
    "X = pd.DataFrame({'x1': x1, 'x2': x2})\n",
    "\n",
    "# learn a logistic regression model\n",
    "model = skl_lm.LogisticRegression(solver='lbfgs')\n",
    "model.fit(X, y)\n",
    "\n",
    "# classify the points in the whole domain\n",
    "res = 0.01   # resolution of the squares\n",
    "xs1 = np.arange(0, 10 + res, res)\n",
    "xs2 = np.arange(0, 10 + res, res)\n",
    "xs1, xs2 = np.meshgrid(xs1, xs2)    # Creating the grid for all the data points\n",
    "X_all = pd.DataFrame({'x1': xs1.flatten(), 'x2': xs2.flatten()})\n",
    "prediction = model.predict(X_all)\n",
    "\n",
    "from matplotlib.colors import LinearSegmentedColormap\n",
    "mycmap = LinearSegmentedColormap.from_list('mycmap', ['skyblue', 'lightsalmon'])\n",
    "plt.imshow(prediction.reshape(xs1.shape[0],-1),\n",
    "           cmap=mycmap,\n",
    "           origin='lower',\n",
    "           extent=[0,10,0,10],\n",
    "           aspect='auto')\n",
    "\n",
    "# Plot of the data points and their label\n",
    "plt.scatter(x1, x2, c=y, cmap='bwr') # blue - white -red colormap\n",
    "\n",
    "plt.title('Logistic regression decision boundary')\n",
    "plt.xlim([0,10])\n",
    "plt.ylim([0,10])\n",
    "plt.xlabel('$x_1$')\n",
    "plt.ylabel('$x_2$')\n",
    "plt.show()"
   ]
  },
  {
   "cell_type": "markdown",
   "metadata": {
    "tags": []
   },
   "source": [
    "## (a) \n",
    "Run the code and verify that it reproduces the figure, and make sure you understand the figure. What is the misclassification rate here?"
   ]
  },
  {
   "cell_type": "code",
   "execution_count": null,
   "metadata": {
    "tags": []
   },
   "outputs": [],
   "source": []
  },
  {
   "cell_type": "markdown",
   "metadata": {
    "tags": []
   },
   "source": [
    "## (b) \n",
    "Modify the code to plot the decision boundary for a LDA classifier. What differences do you see? What is the misclassification rate?"
   ]
  },
  {
   "cell_type": "code",
   "execution_count": null,
   "metadata": {
    "tags": []
   },
   "outputs": [],
   "source": []
  },
  {
   "cell_type": "markdown",
   "metadata": {
    "tags": []
   },
   "source": [
    "## (c) \n",
    "Modify the code to plot the decision boundary for a QDA classifier. What differences do you see? What is the misclassification rate?"
   ]
  },
  {
   "cell_type": "code",
   "execution_count": null,
   "metadata": {
    "tags": []
   },
   "outputs": [],
   "source": []
  },
  {
   "cell_type": "markdown",
   "metadata": {
    "tags": []
   },
   "source": [
    "## (d) \n",
    "Modify the code to plot the decision boundary for a $k$-NN classifier. What differences do you see? What is the misclassification rate?"
   ]
  },
  {
   "cell_type": "code",
   "execution_count": null,
   "metadata": {
    "tags": []
   },
   "outputs": [],
   "source": []
  },
  {
   "cell_type": "markdown",
   "metadata": {
    "tags": []
   },
   "source": [
    "## (e) \n",
    "What happens with the decision boundary for logistic regression if you include the term $x_1x_2$ as an input? What is the misclassification rate?"
   ]
  },
  {
   "cell_type": "code",
   "execution_count": null,
   "metadata": {
    "tags": []
   },
   "outputs": [],
   "source": []
  },
  {
   "cell_type": "markdown",
   "metadata": {
    "tags": []
   },
   "source": [
    "# 4.3 Why not linear regression?\n",
    "In this exercise, we explore why linear regression might not be well suited for classification problems."
   ]
  },
  {
   "cell_type": "markdown",
   "metadata": {
    "tags": []
   },
   "source": [
    "## (a) \n",
    "Construct and plot a data set as follows: Let $x_i$ be samples $x_i = i$ in a sequence from $i = 1$ to $i = 40$. Let $y_i = 0$ for all $i = 1 : 40$, except for $i = 34, 38, 39, 40$ where $y_i = 1$. Hence, $y$ belongs to either of two classes, $0$ and $1$."
   ]
  },
  {
   "cell_type": "code",
   "execution_count": null,
   "metadata": {
    "tags": []
   },
   "outputs": [],
   "source": []
  },
  {
   "cell_type": "markdown",
   "metadata": {
    "tags": []
   },
   "source": [
    "## (b) \n",
    "Now, the problem is to fit a model which is able to predict the output $y$ from the input $x$. Start with a linear regression model (command `skl_lm.LinearRegression()`), and simply threshold its predictions at 0.5 (the average of 0 and 1, the two classes). Plot the prediction. How good is the prediction?"
   ]
  },
  {
   "cell_type": "code",
   "execution_count": null,
   "metadata": {
    "tags": []
   },
   "outputs": [],
   "source": []
  },
  {
   "cell_type": "markdown",
   "metadata": {
    "tags": []
   },
   "source": [
    "## (c) \n",
    "Try instead logistic regression using `skl_lm.LogisticRegression()` command (set the parameter `C` to $1000$) and plot the prediction. How good is the prediction, and what advantages does logistic regression have over linear regression for this classification problem?  "
   ]
  },
  {
   "cell_type": "code",
   "execution_count": null,
   "metadata": {
    "tags": []
   },
   "outputs": [],
   "source": []
  },
  {
   "cell_type": "markdown",
   "metadata": {
    "tags": []
   },
   "source": [
    "# 4.4 k-NN\n",
    "In this exercise, we are going to explore an important user aspect of $k$-NN."
   ]
  },
  {
   "cell_type": "markdown",
   "metadata": {
    "tags": []
   },
   "source": [
    "## (a) \n",
    "Make $200$ draws $x_1$ from a $\\mathcal{N}(0, 1^2)$ distribution, and $200$ draws $x_2$ from $\\mathcal{N}(0, 10^4)$. Also construct $y$ such that $y = 1$ if $x_1 \\cdot x_2$ is positive, and $0$ otherwise. Split the data set randomly into a test and a training data set (equally sized)."
   ]
  },
  {
   "cell_type": "code",
   "execution_count": null,
   "metadata": {
    "tags": []
   },
   "outputs": [],
   "source": []
  },
  {
   "cell_type": "markdown",
   "metadata": {
    "tags": []
   },
   "source": [
    "## (b) \n",
    "Use $k$-NN (choose $k$ yourself) to predict the test output $y$ using $x_1$ and $x_2$ as inputs. How well do you perform?"
   ]
  },
  {
   "cell_type": "code",
   "execution_count": null,
   "metadata": {
    "tags": []
   },
   "outputs": [],
   "source": []
  },
  {
   "cell_type": "markdown",
   "metadata": {
    "tags": []
   },
   "source": [
    "## (c) \n",
    "Now replace $x_2$ with $200$ draws from $\\mathcal{N}(0, 1^2)$, and perform $k$-NN classification anew. How well do you perform this time? Explain the difference!"
   ]
  },
  {
   "cell_type": "code",
   "execution_count": null,
   "metadata": {
    "tags": []
   },
   "outputs": [],
   "source": []
  },
  {
   "cell_type": "markdown",
   "metadata": {
    "tags": []
   },
   "source": [
    "## (d) \n",
    "Explore how the `sklearn.preprocessing.scale()` function can help for such problems encountered in (b)!"
   ]
  },
  {
   "cell_type": "code",
   "execution_count": null,
   "metadata": {
    "tags": []
   },
   "outputs": [],
   "source": []
  },
  {
   "cell_type": "markdown",
   "metadata": {
    "tags": []
   },
   "source": [
    "# 4.5 Multiclass classification\n",
    "In the course, we have focused on the classification problem for 2 classes. The methods can, however, be generalized to more than two classes. In `Python`, the commands `skl_da.LinearDiscriminantAnalysis()`, `skl_da.QuadraticDiscriminantAnalysis()` and `skl_nb.KNeighborsClassifier()` can all be used directly for multi-class problems as well, which we will do in this exercise."
   ]
  },
  {
   "cell_type": "markdown",
   "metadata": {
    "tags": []
   },
   "source": [
    "## (a)\n",
    "Load and familiarize yourself with the data set `iris`, and split it randomly into a training and a test data set."
   ]
  },
  {
   "cell_type": "markdown",
   "metadata": {
    "tags": []
   },
   "source": [
    "**Description**\n",
    "\n",
    "This famous (Fisher's or Anderson's) `iris` data set gives the measurements in centimeters of the variables sepal length and width and petal length and width, respectively, for $50$ flowers from each of $3$ species of iris. The species are Iris setosa, versicolor, and virginica.\n",
    "\n",
    "**Format**\n",
    "\n",
    "iris is a data frame with $150$ cases (rows) and $5$ variables (columns) named `Sepal.Length`, `Sepal.Width`, `Petal.Length`, `Petal.Width`, and `Species`."
   ]
  },
  {
   "cell_type": "code",
   "execution_count": null,
   "metadata": {
    "tags": []
   },
   "outputs": [],
   "source": [
    "# url = 'data/iris.csv'\n",
    "url = 'https://uu-sml.github.io/course-sml-public/data/iris.csv'\n",
    "iris = pd.read_csv(url)"
   ]
  },
  {
   "cell_type": "code",
   "execution_count": null,
   "metadata": {
    "tags": []
   },
   "outputs": [],
   "source": []
  },
  {
   "cell_type": "markdown",
   "metadata": {
    "tags": []
   },
   "source": [
    "## (b)\n",
    "Use all inputs (`Sepal.Length`, `Sepal.Width`, `Petal.Length`, `Petal.Width`) to predict the output `Species` (`setosa`,\n",
    "`versicolor` and `virginica`) using LDA, QDA, and $k$-NN, respectively."
   ]
  },
  {
   "cell_type": "code",
   "execution_count": null,
   "metadata": {
    "tags": []
   },
   "outputs": [],
   "source": []
  }
 ],
 "metadata": {
  "kernelspec": {
   "display_name": "Python 3",
   "language": "python",
   "name": "python3"
  },
  "language_info": {
   "codemirror_mode": {
    "name": "ipython",
    "version": 3
   },
   "file_extension": ".py",
   "mimetype": "text/x-python",
   "name": "python",
   "nbconvert_exporter": "python",
   "pygments_lexer": "ipython3",
   "version": "3.7.4"
  }
 },
 "nbformat": 4,
 "nbformat_minor": 4
}
